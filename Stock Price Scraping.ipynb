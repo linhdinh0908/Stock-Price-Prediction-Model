{
 "cells": [
  {
   "cell_type": "code",
   "execution_count": 1,
   "metadata": {},
   "outputs": [],
   "source": [
    "# import necessary libraries\n",
    "import pandas as pd\n",
    "import numpy as np\n",
    "import matplotlib as plt\n",
    "import requests\n",
    "import datetime\n",
    "import io\n",
    "import yfinance as yf"
   ]
  },
  {
   "cell_type": "code",
   "execution_count": 2,
   "metadata": {},
   "outputs": [
    {
     "data": {
      "text/html": [
       "<div>\n",
       "<style scoped>\n",
       "    .dataframe tbody tr th:only-of-type {\n",
       "        vertical-align: middle;\n",
       "    }\n",
       "\n",
       "    .dataframe tbody tr th {\n",
       "        vertical-align: top;\n",
       "    }\n",
       "\n",
       "    .dataframe thead th {\n",
       "        text-align: right;\n",
       "    }\n",
       "</style>\n",
       "<table border=\"1\" class=\"dataframe\">\n",
       "  <thead>\n",
       "    <tr style=\"text-align: right;\">\n",
       "      <th></th>\n",
       "      <th>Constituent Name</th>\n",
       "      <th>Symbol</th>\n",
       "    </tr>\n",
       "  </thead>\n",
       "  <tbody>\n",
       "    <tr>\n",
       "      <th>0</th>\n",
       "      <td>Agnico Eagle Mines Limited</td>\n",
       "      <td>AEM</td>\n",
       "    </tr>\n",
       "    <tr>\n",
       "      <th>1</th>\n",
       "      <td>Algonquin Power &amp; Utilities Corp.</td>\n",
       "      <td>AQN</td>\n",
       "    </tr>\n",
       "    <tr>\n",
       "      <th>2</th>\n",
       "      <td>Alimentation Couche-Tard Inc. Class B Subordin...</td>\n",
       "      <td>ATD.B</td>\n",
       "    </tr>\n",
       "    <tr>\n",
       "      <th>3</th>\n",
       "      <td>Bank of Montreal</td>\n",
       "      <td>BMO</td>\n",
       "    </tr>\n",
       "    <tr>\n",
       "      <th>4</th>\n",
       "      <td>Bank of Nova Scotia (The)</td>\n",
       "      <td>BNS</td>\n",
       "    </tr>\n",
       "  </tbody>\n",
       "</table>\n",
       "</div>"
      ],
      "text/plain": [
       "                                    Constituent Name Symbol\n",
       "0                         Agnico Eagle Mines Limited    AEM\n",
       "1                  Algonquin Power & Utilities Corp.    AQN\n",
       "2  Alimentation Couche-Tard Inc. Class B Subordin...  ATD.B\n",
       "3                                   Bank of Montreal    BMO\n",
       "4                          Bank of Nova Scotia (The)    BNS"
      ]
     },
     "execution_count": 2,
     "metadata": {},
     "output_type": "execute_result"
    }
   ],
   "source": [
    "# Extract companies' stock names from the TSX60 Index\n",
    "df = pd.read_csv('TX60_constituents.csv')\n",
    "df.head()"
   ]
  },
  {
   "cell_type": "code",
   "execution_count": 106,
   "metadata": {},
   "outputs": [
    {
     "data": {
      "text/plain": [
       "['AEM',\n",
       " 'AQN',\n",
       " 'ATD.B',\n",
       " 'BMO',\n",
       " 'BNS',\n",
       " 'ABX',\n",
       " 'BHC',\n",
       " 'BCE',\n",
       " 'BAM.A',\n",
       " 'BIP.UN',\n",
       " 'BPY.UN',\n",
       " 'CCO',\n",
       " 'CAR.UN',\n",
       " 'CM',\n",
       " 'CNR',\n",
       " 'CNQ',\n",
       " 'CP',\n",
       " 'CTC.A',\n",
       " 'WEED',\n",
       " 'CCL.B',\n",
       " 'CVE',\n",
       " 'GIB.A',\n",
       " 'CSU',\n",
       " 'DOL',\n",
       " 'EMA',\n",
       " 'ENB',\n",
       " 'FM',\n",
       " 'FTS',\n",
       " 'FNV',\n",
       " 'WN',\n",
       " 'GIL',\n",
       " 'IMO',\n",
       " 'IPL',\n",
       " 'K',\n",
       " 'KL',\n",
       " 'L',\n",
       " 'MG',\n",
       " 'MFC',\n",
       " 'MRU',\n",
       " nan,\n",
       " 'NTR',\n",
       " 'OTEX',\n",
       " 'PPL',\n",
       " 'POW',\n",
       " 'QSR',\n",
       " 'RCI.B',\n",
       " 'RY',\n",
       " 'SAP',\n",
       " 'SJR.B',\n",
       " 'SHOP',\n",
       " 'SNC',\n",
       " 'SLF',\n",
       " 'SU',\n",
       " 'TRP',\n",
       " 'TECK.B',\n",
       " 'T',\n",
       " 'TRI',\n",
       " 'TD',\n",
       " 'WCN',\n",
       " 'WPM']"
      ]
     },
     "execution_count": 106,
     "metadata": {},
     "output_type": "execute_result"
    }
   ],
   "source": [
    "Symbols = df['Symbol'].tolist()\n",
    "Symbols"
   ]
  },
  {
   "cell_type": "markdown",
   "metadata": {},
   "source": [
    "## Scrape historic stock data"
   ]
  },
  {
   "cell_type": "code",
   "execution_count": 104,
   "metadata": {},
   "outputs": [],
   "source": [
    "# Create an empty DataFrame\n",
    "stock_list = pd.DataFrame()"
   ]
  },
  {
   "cell_type": "code",
   "execution_count": null,
   "metadata": {},
   "outputs": [],
   "source": [
    "for Symbol in Symbols"
   ]
  },
  {
   "cell_type": "code",
   "execution_count": 111,
   "metadata": {
    "scrolled": true
   },
   "outputs": [
    {
     "name": "stdout",
     "output_type": "stream",
     "text": [
      "0:AEM,1:AQN,2:ATD.B,3:BMO,4:BNS,5:ABX,6:BHC,7:BCE,8:BAM.A,9:BIP.UN,10:BPY.UN,11:CCO,12:CAR.UN,13:CM,14:CNR,15:CNQ,16:CP,17:CTC.A,18:WEED,19:CCL.B,20:CVE,21:GIB.A,22:CSU,23:DOL,24:EMA,25:ENB,26:FM,27:FTS,28:FNV,29:WN,30:GIL,31:IMO,32:IPL,33:K,34:KL,35:L,36:MG,37:MFC,38:MRU,"
     ]
    },
    {
     "ename": "TypeError",
     "evalue": "can only concatenate str (not \"float\") to str",
     "output_type": "error",
     "traceback": [
      "\u001b[1;31m---------------------------------------------------------------------------\u001b[0m",
      "\u001b[1;31mTypeError\u001b[0m                                 Traceback (most recent call last)",
      "\u001b[1;32m<ipython-input-111-02fa626c9420>\u001b[0m in \u001b[0;36m<module>\u001b[1;34m\u001b[0m\n\u001b[0;32m      1\u001b[0m \u001b[1;32mfor\u001b[0m \u001b[0mSymbol\u001b[0m \u001b[1;32min\u001b[0m \u001b[0mSymbols\u001b[0m\u001b[1;33m:\u001b[0m\u001b[1;33m\u001b[0m\u001b[1;33m\u001b[0m\u001b[0m\n\u001b[1;32m----> 2\u001b[1;33m     \u001b[0mprint\u001b[0m\u001b[1;33m(\u001b[0m\u001b[0mstr\u001b[0m\u001b[1;33m(\u001b[0m\u001b[0mSymbols\u001b[0m\u001b[1;33m.\u001b[0m\u001b[0mindex\u001b[0m\u001b[1;33m(\u001b[0m\u001b[0mSymbol\u001b[0m\u001b[1;33m)\u001b[0m\u001b[1;33m)\u001b[0m \u001b[1;33m+\u001b[0m \u001b[0mstr\u001b[0m\u001b[1;33m(\u001b[0m\u001b[1;34m':'\u001b[0m\u001b[1;33m)\u001b[0m \u001b[1;33m+\u001b[0m \u001b[0mSymbol\u001b[0m\u001b[1;33m,\u001b[0m \u001b[0msep\u001b[0m \u001b[1;33m=\u001b[0m\u001b[1;34m','\u001b[0m\u001b[1;33m,\u001b[0m \u001b[0mend\u001b[0m \u001b[1;33m=\u001b[0m \u001b[1;34m','\u001b[0m\u001b[1;33m,\u001b[0m \u001b[0mflush\u001b[0m \u001b[1;33m=\u001b[0m \u001b[1;32mTrue\u001b[0m\u001b[1;33m)\u001b[0m\u001b[1;33m\u001b[0m\u001b[1;33m\u001b[0m\u001b[0m\n\u001b[0m",
      "\u001b[1;31mTypeError\u001b[0m: can only concatenate str (not \"float\") to str"
     ]
    }
   ],
   "source": [
    "for Symbol in Symbols:\n",
    "    print(str(Symbols.index(Symbol)) + str(':') + Symbol, sep =',', end = ',', flush = True)\n",
    "        stock = []\n",
    "        stock = yf.download(Symbol,start = start, end = end, progress = False)\n",
    "        \n",
    "        "
   ]
  },
  {
   "cell_type": "markdown",
   "metadata": {},
   "source": [
    "## Scrape real time stock data using BeautifulSoup"
   ]
  },
  {
   "cell_type": "code",
   "execution_count": null,
   "metadata": {},
   "outputs": [],
   "source": [
    "url ='https://ca.finance.yahoo.com/quote/BNS/history?p=BNS&.tsrc=fin-srch'\n",
    "r = requests.get(url)\n",
    "soup = BeautifulSoup(r.content,'html.parser')\n",
    "print(soup.prettify())\n",
    "\n"
   ]
  }
 ],
 "metadata": {
  "kernelspec": {
   "display_name": "Python 3",
   "language": "python",
   "name": "python3"
  },
  "language_info": {
   "codemirror_mode": {
    "name": "ipython",
    "version": 3
   },
   "file_extension": ".py",
   "mimetype": "text/x-python",
   "name": "python",
   "nbconvert_exporter": "python",
   "pygments_lexer": "ipython3",
   "version": "3.8.3"
  }
 },
 "nbformat": 4,
 "nbformat_minor": 4
}
